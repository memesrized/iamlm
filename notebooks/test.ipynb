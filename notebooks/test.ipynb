{
 "cells": [
  {
   "cell_type": "code",
   "execution_count": 1,
   "metadata": {
    "ExecuteTime": {
     "end_time": "2020-05-03T00:07:10.623346Z",
     "start_time": "2020-05-03T00:07:10.445886Z"
    }
   },
   "outputs": [],
   "source": [
    "from src.models.social_networks import Telegram"
   ]
  },
  {
   "cell_type": "code",
   "execution_count": 3,
   "metadata": {
    "ExecuteTime": {
     "end_time": "2020-05-03T00:07:11.362368Z",
     "start_time": "2020-05-03T00:07:11.359040Z"
    }
   },
   "outputs": [],
   "source": [
    "tel = Telegram('path/to/data', 'Your Name', 2, ['Ignored_chat_name'])"
   ]
  },
  {
   "cell_type": "code",
   "execution_count": 4,
   "metadata": {
    "ExecuteTime": {
     "end_time": "2020-05-03T00:07:19.827889Z",
     "start_time": "2020-05-03T00:07:11.746550Z"
    }
   },
   "outputs": [
    {
     "name": "stderr",
     "output_type": "stream",
     "text": [
      "IOPub message rate exceeded.\n",
      "The notebook server will temporarily stop sending output\n",
      "to the client in order to avoid crashing it.\n",
      "To change this limit, set the config variable\n",
      "`--NotebookApp.iopub_msg_rate_limit`.\n",
      "\n",
      "Current values:\n",
      "NotebookApp.iopub_msg_rate_limit=1000.0 (msgs/sec)\n",
      "NotebookApp.rate_limit_window=3.0 (secs)\n",
      "\n"
     ]
    }
   ],
   "source": [
    "tel.process()"
   ]
  },
  {
   "cell_type": "code",
   "execution_count": 6,
   "metadata": {
    "ExecuteTime": {
     "end_time": "2020-05-02T08:29:42.553197Z",
     "start_time": "2020-05-02T08:29:42.440500Z"
    }
   },
   "outputs": [],
   "source": [
    "from src.models.social_networks import VK"
   ]
  },
  {
   "cell_type": "code",
   "execution_count": 14,
   "metadata": {
    "ExecuteTime": {
     "end_time": "2020-05-02T08:44:35.198163Z",
     "start_time": "2020-05-02T08:44:35.191380Z"
    }
   },
   "outputs": [],
   "source": [
    "vk = VK('path/to/data', 'Your Name', 2, ['Ignored_chat_name'], min_year=2015)"
   ]
  },
  {
   "cell_type": "code",
   "execution_count": 15,
   "metadata": {
    "ExecuteTime": {
     "end_time": "2020-05-02T08:52:43.066903Z",
     "start_time": "2020-05-02T08:44:37.758371Z"
    }
   },
   "outputs": [
    {
     "data": {
      "text/plain": [
       "<src.data.vk.VK at 0x7f2cf8ba6210>"
      ]
     },
     "execution_count": 15,
     "metadata": {},
     "output_type": "execute_result"
    }
   ],
   "source": [
    "vk.process()"
   ]
  },
  {
   "cell_type": "code",
   "execution_count": 5,
   "metadata": {
    "ExecuteTime": {
     "end_time": "2020-05-03T00:07:19.941630Z",
     "start_time": "2020-05-03T00:07:19.937742Z"
    }
   },
   "outputs": [],
   "source": [
    "from src.models.generator import Generator"
   ]
  },
  {
   "cell_type": "code",
   "execution_count": 6,
   "metadata": {
    "ExecuteTime": {
     "end_time": "2020-05-03T00:07:20.031116Z",
     "start_time": "2020-05-03T00:07:20.029304Z"
    }
   },
   "outputs": [],
   "source": [
    "a = Generator()"
   ]
  },
  {
   "cell_type": "code",
   "execution_count": null,
   "metadata": {
    "ExecuteTime": {
     "end_time": "2020-05-03T00:08:30.026618Z",
     "start_time": "2020-05-03T00:08:30.016364Z"
    }
   },
   "outputs": [],
   "source": [
    "a.make_sequence('<start_token>', tel.lm_dict)"
   ]
  }
 ],
 "metadata": {
  "kernelspec": {
   "display_name": "lm_bot",
   "language": "python",
   "name": "lm_bot"
  },
  "language_info": {
   "codemirror_mode": {
    "name": "ipython",
    "version": 3
   },
   "file_extension": ".py",
   "mimetype": "text/x-python",
   "name": "python",
   "nbconvert_exporter": "python",
   "pygments_lexer": "ipython3",
   "version": "3.7.5"
  },
  "varInspector": {
   "cols": {
    "lenName": 16,
    "lenType": 16,
    "lenVar": 40
   },
   "kernels_config": {
    "python": {
     "delete_cmd_postfix": "",
     "delete_cmd_prefix": "del ",
     "library": "var_list.py",
     "varRefreshCmd": "print(var_dic_list())"
    },
    "r": {
     "delete_cmd_postfix": ") ",
     "delete_cmd_prefix": "rm(",
     "library": "var_list.r",
     "varRefreshCmd": "cat(var_dic_list()) "
    }
   },
   "position": {
    "height": "433.722px",
    "left": "1375.45px",
    "right": "20px",
    "top": "120px",
    "width": "350px"
   },
   "types_to_exclude": [
    "module",
    "function",
    "builtin_function_or_method",
    "instance",
    "_Feature"
   ],
   "window_display": false
  }
 },
 "nbformat": 4,
 "nbformat_minor": 4
}
