{
 "cells": [
  {
   "cell_type": "code",
   "execution_count": 2,
   "metadata": {
    "ExecuteTime": {
     "end_time": "2020-05-02T09:24:32.133001Z",
     "start_time": "2020-05-02T09:24:32.126494Z"
    }
   },
   "outputs": [],
   "source": [
    "from src.data.social_networks import Telegram"
   ]
  },
  {
   "cell_type": "code",
   "execution_count": 3,
   "metadata": {
    "ExecuteTime": {
     "end_time": "2020-05-02T09:24:32.641180Z",
     "start_time": "2020-05-02T09:24:32.636192Z"
    }
   },
   "outputs": [],
   "source": [
    "tel = Telegram('path/to/data', 'Your Name', 2, ['Ignored_chat_name'])"
   ]
  },
  {
   "cell_type": "code",
   "execution_count": 4,
   "metadata": {
    "ExecuteTime": {
     "end_time": "2020-05-02T09:24:41.884364Z",
     "start_time": "2020-05-02T09:24:33.238810Z"
    }
   },
   "outputs": [
    {
     "data": {
      "text/plain": [
       "<src.data.social_networks.Telegram at 0x7ff075d96a10>"
      ]
     },
     "execution_count": 4,
     "metadata": {},
     "output_type": "execute_result"
    }
   ],
   "source": [
    "tel.process()"
   ]
  },
  {
   "cell_type": "code",
   "execution_count": 6,
   "metadata": {
    "ExecuteTime": {
     "end_time": "2020-05-02T08:29:42.553197Z",
     "start_time": "2020-05-02T08:29:42.440500Z"
    }
   },
   "outputs": [],
   "source": [
    "from src.data.vk import VK"
   ]
  },
  {
   "cell_type": "code",
   "execution_count": 14,
   "metadata": {
    "ExecuteTime": {
     "end_time": "2020-05-02T08:44:35.198163Z",
     "start_time": "2020-05-02T08:44:35.191380Z"
    }
   },
   "outputs": [],
   "source": [
    "vk = VK('path/to/data', 'Your Name', 2, ['Ignored_chat_name'], min_year=2015)"
   ]
  },
  {
   "cell_type": "code",
   "execution_count": 15,
   "metadata": {
    "ExecuteTime": {
     "end_time": "2020-05-02T08:52:43.066903Z",
     "start_time": "2020-05-02T08:44:37.758371Z"
    }
   },
   "outputs": [
    {
     "data": {
      "text/plain": [
       "<src.data.vk.VK at 0x7f2cf8ba6210>"
      ]
     },
     "execution_count": 15,
     "metadata": {},
     "output_type": "execute_result"
    }
   ],
   "source": [
    "vk.process()"
   ]
  }
 ],
 "metadata": {
  "kernelspec": {
   "display_name": "lm_bot",
   "language": "python",
   "name": "lm_bot"
  },
  "language_info": {
   "codemirror_mode": {
    "name": "ipython",
    "version": 3
   },
   "file_extension": ".py",
   "mimetype": "text/x-python",
   "name": "python",
   "nbconvert_exporter": "python",
   "pygments_lexer": "ipython3",
   "version": "3.7.5"
  },
  "varInspector": {
   "cols": {
    "lenName": 16,
    "lenType": 16,
    "lenVar": 40
   },
   "kernels_config": {
    "python": {
     "delete_cmd_postfix": "",
     "delete_cmd_prefix": "del ",
     "library": "var_list.py",
     "varRefreshCmd": "print(var_dic_list())"
    },
    "r": {
     "delete_cmd_postfix": ") ",
     "delete_cmd_prefix": "rm(",
     "library": "var_list.r",
     "varRefreshCmd": "cat(var_dic_list()) "
    }
   },
   "types_to_exclude": [
    "module",
    "function",
    "builtin_function_or_method",
    "instance",
    "_Feature"
   ],
   "window_display": false
  }
 },
 "nbformat": 4,
 "nbformat_minor": 4
}
